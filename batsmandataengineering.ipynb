{
  "cells": [
    {
      "cell_type": "markdown",
      "metadata": {
        "id": "view-in-github",
        "colab_type": "text"
      },
      "source": [
        "<a href=\"https://colab.research.google.com/github/vivekdubey74vv/Cricket-Player-Performance-Prediction/blob/main/batsmandataengineering.ipynb\" target=\"_parent\"><img src=\"https://colab.research.google.com/assets/colab-badge.svg\" alt=\"Open In Colab\"/></a>"
      ]
    },
    {
      "metadata": {
        "id": "ByvwxN2kdo6P"
      },
      "cell_type": "markdown",
      "source": [
        "# Introduction\n",
        "Cricket is a sport played by two teams with each side having eleven players. Each team is a right\n",
        "blend of batsmen, bowlers and allrounders. The batsmen’s role is to score maximum runs possible\n",
        "and the bowlers have to take maximum wickets and restrict the other team from scoring runs at the\n",
        "same time. Allrounders are the players who can both bat and bowl and they contribute by scoring\n",
        "runs and taking wickets. Each player contributes towards the overall performance of the team by\n",
        "giving his best performance in each match. Each player’s performance varies with factors like the\n",
        "team he is playing against and the ground at which the match is being played. It is important to\n",
        "select the right players that can perform the best in each match. The performance of a player also\n",
        "depends on several factors like his current form, his performance against a particular team, his\n",
        "performance at a particular venue etc. The team management, the coach and the captain analyze\n",
        "each player’s characteristics, abilities and past stats to select the best playing XI for a given match.\n",
        "In other words, they try to predict the players’ performance for each match.\n",
        "In this project, we predict the players’ performance in One Day International (ODI) matches by\n",
        "analyzing their characteristics and stats using supervised machine learning techniques. For this,\n",
        "we predict batsmen’s and bowlers’ performance separately as how many runs will a batsman\n",
        "score and how many wickets will a bowler take in a particular match.\n"
      ]
    },
    {
      "metadata": {
        "id": "cCJD9EoDdo6U"
      },
      "cell_type": "markdown",
      "source": [
        "# Overview\n",
        "This project has 4 main parts:\n",
        "1. Batsman Data Engineering\n",
        "2. Bowler Data Engineering\n",
        "3. Batsman Prediction\n",
        "4. Bowler Prediction\n",
        "\n",
        "Each of the part has been implemented in seperate notebooks. First two are for data engineering and other two are for model implementation and predictions."
      ]
    },
    {
      "metadata": {
        "id": "uYumv4Pfdo6V"
      },
      "cell_type": "markdown",
      "source": [
        "# Acknowledgements\n",
        "* The following project is based on a research paper contributed by Kalpdrum Passi and Niravkumar Pandey\n",
        "**Department of Mathematics and Computer Science**\n",
        "**Laurentian University, Sudbury, Canada**\n",
        "\n",
        "* The following dataset in scraped from espncricinfo.com\n"
      ]
    },
    {
      "metadata": {
        "id": "WCYBj1W5do6V"
      },
      "cell_type": "markdown",
      "source": [
        "# Approach\n",
        "The stats of the players such as average, strike rate etc. are\n",
        "not available directly for each game, we calculated these attributes from the innings by innings\n",
        "list using aggregate functions and mathematical formulae. The formulaes and values are referenced from the research paper. These attributes are generally used to\n",
        "measure a player’s performance. They are as follows:\n",
        "### Batting Attributes\n",
        "1. No. of Innings:\n",
        "The number of innings in which the batsman has batted till the day of the match.\n",
        "This attribute signifies the experience of the batsman. The more innings the batsman has played,\n",
        "the more experienced the player is.\n",
        "\n",
        "2. Batting Average:\n",
        "Batting average commonly referred to as average is the average number of runs\n",
        "scored per innings. This attribute indicates the run scoring capability of the player.\n",
        "**Average = Runs Scored / Number of times dismissed**\n",
        "\n",
        "3. Strike Rate (SR):\n",
        "Strike rate is the average number of runs scored per 100 balls faced. In limited\n",
        "overs cricket, it is important to score runs at a fast pace. More runs scored at a slow pace is rather\n",
        "harmful to the team as they have a limited number of overs. This attribute indicates how quickly\n",
        "the batsman can score runs.\n",
        "**Strike Rate: (Runs Scored / Balls Faced) * 100**\n",
        "\n",
        "4. Centuries:\n",
        "Number of innings in which the batsman scored more than 100 runs. This attribute\n",
        "indicates the capability of the player to play longer innings and score more runs.\n",
        "\n",
        "5. Fifties:\n",
        "Number of innings in which the batsman scored more than 50 (and less than 100)\n",
        "runs.This attribute indicates the capability of the player to play longer innings and score more runs.\n",
        "\n",
        "6. Zeros:\n",
        "Number of innings in which the batsman was dismissed without scoring a single run. This\n",
        "attribute shows how many times the batsman failed to score runs, hence this being a negative\n",
        "factor, was impacts the batsman’s prediction negatively.\n",
        "\n",
        "\n",
        "### Bowling Attributes\n",
        "1. No. of Innings:\n",
        "The number of innings in which the bowler bowled at least one ball. It represents\n",
        "the bowling experience of a player. The more innings the player has played, the more experienced\n",
        "the player is.\n",
        "Overs: The number of overs bowled by a bowler.This attribute also indicates the experience\n",
        "of the bowler. The more overs the bowler has bowled, the more experienced the bowler\n",
        "is.\n",
        "2. Bowling Average:\n",
        "Bowling average is the number of runs conceded by a bowler per\n",
        "wicket taken. This attribute indicates the capabilities of the bowler to restrict the batsmen\n",
        "from scoring runs and taking wickets at the same time. Lower values of bowling average\n",
        "indicate more capabilities.\n",
        "3. Bowling Average:\n",
        "**Number of runs conceded / Number of wickets taken**\n",
        "4. Bowling Strike Rate:\n",
        "Bowling strike rate is the number of balls bowled per wicket taken.\n",
        "This attribute indicates the wicket taking capability of the bowler. Lower values mean\n",
        "that the bowler is capable of taking wickets quickly.\n",
        "5. Strike Rate:\n",
        "**Number of balls bowled / Number of wickets taken**\n",
        "6. Four/Five Wicket Haul:\n",
        "Number of innings in which the bowler has taken more than four\n",
        "wickets. This attribute indicates the capability of the bowler to take more wickets in an\n",
        "innings. Higher the value, more capable the player.\n"
      ]
    },
    {
      "metadata": {
        "_uuid": "8f2839f25d086af736a60e9eeb907d3b93b6e0e5",
        "_cell_guid": "b1076dfc-b9ad-4769-8c92-a6c4dae69d19",
        "trusted": true,
        "id": "pNH8a6Yzdo6W",
        "outputId": "bf9cbbf6-5629-4459-82f5-a2ce0359f5d5"
      },
      "cell_type": "code",
      "source": [
        "import numpy as np\n",
        "import pandas as pd\n",
        "import re\n",
        "import os\n",
        "for dirname, _, filenames in os.walk('/kaggle/input'):\n",
        "    for filename in filenames:\n",
        "        print(os.path.join(dirname, filename))"
      ],
      "execution_count": null,
      "outputs": [
        {
          "output_type": "stream",
          "text": "/kaggle/input/cricinfo-statsguru-data/Men ODI Player Innings Stats - 20th Century.csv\n/kaggle/input/cricinfo-statsguru-data/Men T20I Team Match Results - 21st Century.csv\n/kaggle/input/cricinfo-statsguru-data/Men ODI Player Innings Stats - 21st Century.csv\n/kaggle/input/cricinfo-statsguru-data/Men ODI Team Batting Stats.csv\n/kaggle/input/cricinfo-statsguru-data/Men Test Player Innings Stats - 21st Century.csv\n/kaggle/input/cricinfo-statsguru-data/Men Test Team Batting Stats.csv\n/kaggle/input/cricinfo-statsguru-data/Women ODI Player Innings Stats - 21st Century.csv\n/kaggle/input/cricinfo-statsguru-data/Men Test Team Match Results - 19th Century.csv\n/kaggle/input/cricinfo-statsguru-data/IPL Player Stats - 2016 till 2019.csv\n/kaggle/input/cricinfo-statsguru-data/Men Test Team Match Results - 21st Century.csv\n/kaggle/input/cricinfo-statsguru-data/Men Test Player Innings Stats - 19th Century.csv\n/kaggle/input/cricinfo-statsguru-data/Men Test Player Innings Stats - 20th Century.csv\n/kaggle/input/cricinfo-statsguru-data/Women Test Player Innings Stats - 21st Century.csv\n/kaggle/input/cricinfo-statsguru-data/Men ODI Team Match Results - 21st Century.csv\n/kaggle/input/cricinfo-statsguru-data/Women ODI Player Innings Stats - 20th Century.csv\n/kaggle/input/cricinfo-statsguru-data/Men T20I Team Bowling Stats.csv\n/kaggle/input/cricinfo-statsguru-data/Men ODI Team Bowling Stats.csv\n/kaggle/input/cricinfo-statsguru-data/Men Test Team Match Results - 20th Century.csv\n/kaggle/input/cricinfo-statsguru-data/Men T20I Team Batting Stats.csv\n/kaggle/input/cricinfo-statsguru-data/Men T20I Player Innings Stats - 21st Century.csv\n/kaggle/input/cricinfo-statsguru-data/Women T20I Player Innings Stats - 21st Century.csv\n/kaggle/input/cricinfo-statsguru-data/Women Test Player Innings Stats - 20th Century.csv\n/kaggle/input/cricinfo-statsguru-data/Men ODI Team Match Results - 20th Century.csv\n/kaggle/input/cricinfo-statsguru-data/Men Test Team Bowling Stats.csv\n/kaggle/input/project/personal_male.csv\n",
          "name": "stdout"
        }
      ]
    },
    {
      "metadata": {
        "_uuid": "d629ff2d2480ee46fbb7e2d37f6b5fab8052498a",
        "_cell_guid": "79c7e3d0-c299-4dcb-8224-4455121ee9b0",
        "trusted": true,
        "id": "RJHsY8A2do6Y"
      },
      "cell_type": "code",
      "source": [
        "dataset=pd.read_csv('/kaggle/input/cricinfo-statsguru-data/Men ODI Player Innings Stats - 21st Century.csv')"
      ],
      "execution_count": null,
      "outputs": []
    },
    {
      "metadata": {
        "trusted": true,
        "id": "0ktCquEcdo6Z",
        "outputId": "c2f2199b-18e1-4811-d8a3-4b584f1951d4"
      },
      "cell_type": "code",
      "source": [
        "dataset.columns"
      ],
      "execution_count": null,
      "outputs": [
        {
          "output_type": "execute_result",
          "execution_count": 3,
          "data": {
            "text/plain": "Index(['Innings Player', 'Innings Runs Scored', 'Innings Runs Scored Num',\n       'Innings Minutes Batted', 'Innings Batted Flag', 'Innings Not Out Flag',\n       'Innings Balls Faced', 'Innings Boundary Fours',\n       'Innings Boundary Sixes', 'Innings Batting Strike Rate',\n       'Innings Number', 'Opposition', 'Ground', 'Innings Date', 'Country',\n       '50's', '100's', 'Innings Runs Scored Buckets', 'Innings Overs Bowled',\n       'Innings Bowled Flag', 'Innings Maidens Bowled',\n       'Innings Runs Conceded', 'Innings Wickets Taken', '4 Wickets',\n       '5 Wickets', '10 Wickets', 'Innings Wickets Taken Buckets',\n       'Innings Economy Rate'],\n      dtype='object')"
          },
          "metadata": {}
        }
      ]
    },
    {
      "metadata": {
        "trusted": true,
        "id": "LWken4V4do6Z"
      },
      "cell_type": "code",
      "source": [
        "batsman=dataset[dataset['Innings Overs Bowled'].isnull()]"
      ],
      "execution_count": null,
      "outputs": []
    },
    {
      "metadata": {
        "trusted": true,
        "id": "BR03ogZLdo6a"
      },
      "cell_type": "code",
      "source": [
        "#removing unnecessary columns\n",
        "drop=['Innings Overs Bowled',\n",
        "       'Innings Bowled Flag', 'Innings Maidens Bowled',\n",
        "       'Innings Runs Conceded', 'Innings Wickets Taken', '4 Wickets',\n",
        "       '5 Wickets', '10 Wickets', 'Innings Wickets Taken Buckets',\n",
        "       'Innings Economy Rate','Innings Runs Scored Num', 'Innings Minutes Batted', 'Innings Batted Flag'\n",
        "     ,'Innings Not Out Flag']\n",
        "batsman=batsman.drop(drop, axis=1)"
      ],
      "execution_count": null,
      "outputs": []
    },
    {
      "metadata": {
        "trusted": true,
        "id": "oryojCNTdo6a"
      },
      "cell_type": "code",
      "source": [
        "batsman['Innings_Runs_Score']=0\n",
        "batsman=batsman[(batsman['Innings Runs Scored']!='DNB') & (batsman['Innings Runs Scored']!='TDNB')]"
      ],
      "execution_count": null,
      "outputs": []
    },
    {
      "metadata": {
        "trusted": true,
        "id": "hlKh8heado6a"
      },
      "cell_type": "code",
      "source": [
        "#writing regular expressions to extract runs scored\n",
        "runs = r'([0-9]*)'\n",
        "index_2=batsman.columns.get_loc('Innings Runs Scored')\n",
        "index_runs=batsman.columns.get_loc('Innings_Runs_Score')\n",
        "for row in range(0,len(batsman)):\n",
        "    run=re.search(runs,batsman.iat[row,index_2]).group()\n",
        "    if run!='':\n",
        "        batsman.iat[row,index_runs]=int(run)"
      ],
      "execution_count": null,
      "outputs": []
    },
    {
      "metadata": {
        "id": "TcNnJcjPdo6b"
      },
      "cell_type": "markdown",
      "source": [
        "## Manipulating features\n",
        "We will be manipulating features as a part of data cleaning and processing step."
      ]
    },
    {
      "metadata": {
        "trusted": true,
        "id": "Y7Kdy1yodo6b"
      },
      "cell_type": "code",
      "source": [
        "#number of 4's\n",
        "\n",
        "batsman['Innings_Boundary_Fours']=0"
      ],
      "execution_count": null,
      "outputs": []
    },
    {
      "metadata": {
        "trusted": true,
        "id": "OIDJvDuvdo6b"
      },
      "cell_type": "code",
      "source": [
        "batsman['Innings Boundary Fours']= np.where(batsman['Innings Boundary Fours']==' ',\n",
        "                                            0,batsman['Innings Boundary Fours'])"
      ],
      "execution_count": null,
      "outputs": []
    },
    {
      "metadata": {
        "trusted": true,
        "id": "aE9zswawdo6b"
      },
      "cell_type": "code",
      "source": [
        "index_3=batsman.columns.get_loc('Innings Boundary Fours')\n",
        "index_fours=batsman.columns.get_loc('Innings_Boundary_Fours')"
      ],
      "execution_count": null,
      "outputs": []
    },
    {
      "metadata": {
        "trusted": true,
        "id": "qNkwFDBBdo6b"
      },
      "cell_type": "code",
      "source": [
        "for row in range(0,len(batsman)):\n",
        "    fours= batsman.iat[row,index_3]\n",
        "    if fours!='-':\n",
        "        batsman.iat[row,index_fours]=int(fours)\n",
        ""
      ],
      "execution_count": null,
      "outputs": []
    },
    {
      "metadata": {
        "trusted": true,
        "id": "ywj_mqHydo6c"
      },
      "cell_type": "code",
      "source": [
        "#number of 6's\n",
        "\n",
        "batsman['Innings_Boundary_Sixes']=0\n",
        "batsman['Innings Boundary Sixes']=np.where(batsman['Innings Boundary Sixes']==' ',\n",
        "                                           0,batsman['Innings Boundary Sixes'])\n",
        "index_3=batsman.columns.get_loc('Innings Boundary Sixes')\n",
        "index_sixes=batsman.columns.get_loc('Innings_Boundary_Sixes')\n",
        "\n",
        "for row in range(0,len(batsman)):\n",
        "    sixes= batsman.iat[row,index_3]\n",
        "    if sixes!='-':\n",
        "        batsman.iat[row,index_sixes]=int(sixes)"
      ],
      "execution_count": null,
      "outputs": []
    },
    {
      "metadata": {
        "trusted": true,
        "id": "P3GFgfe8do6c"
      },
      "cell_type": "code",
      "source": [
        "# current innings strike rate\n",
        "batsman['Innings_Batting_Strike_Rate']=0.0\n",
        "index_3=batsman.columns.get_loc('Innings Batting Strike Rate')\n",
        "index_sr=batsman.columns.get_loc('Innings_Batting_Strike_Rate')\n",
        "\n",
        "for row in range(0,len(batsman)):\n",
        "    sr= batsman.iat[row,index_3]\n",
        "    if sr!='-':\n",
        "        batsman.iat[row,index_sr]=float(sr)"
      ],
      "execution_count": null,
      "outputs": []
    },
    {
      "metadata": {
        "trusted": true,
        "id": "DVRVgGW8do6c"
      },
      "cell_type": "code",
      "source": [
        "# Innings played\n",
        "\n",
        "batsman['Innings_Number']=0\n",
        "index_3=batsman.columns.get_loc('Innings Number')\n",
        "index_in=batsman.columns.get_loc('Innings_Number')\n",
        "\n",
        "for row in range(0,len(batsman)):\n",
        "    inn= batsman.iat[row,index_3]\n",
        "    if inn!='-':\n",
        "        batsman.iat[row,index_in]=int(inn)"
      ],
      "execution_count": null,
      "outputs": []
    },
    {
      "metadata": {
        "trusted": true,
        "id": "YwYlINuqdo6c"
      },
      "cell_type": "code",
      "source": [
        "#Innings Balls Faced\n",
        "batsman['Innings_Balls_Faced']=0\n",
        "index_3=batsman.columns.get_loc('Innings Balls Faced')\n",
        "index_in=batsman.columns.get_loc('Innings_Balls_Faced')\n",
        "\n",
        "for row in range(0,len(batsman)):\n",
        "    inn= batsman.iat[row,index_3]\n",
        "    if inn!='-':\n",
        "        batsman.iat[row,index_in]=int(inn)"
      ],
      "execution_count": null,
      "outputs": []
    },
    {
      "metadata": {
        "trusted": true,
        "id": "SKcJixSWdo6c"
      },
      "cell_type": "code",
      "source": [
        "#Extracting names of Opposition teams\n",
        "\n",
        "index_3=batsman.columns.get_loc('Opposition')\n",
        "opp = r'[^v][A-Z]+[a-z]*[\" \"]*[A-Z]*[a-z]*'\n",
        "for row in range(0,len(batsman)):\n",
        "    opps=re.search(opp,batsman.iat[row,index_3]).group()\n",
        "    batsman.iat[row,index_3]=opps"
      ],
      "execution_count": null,
      "outputs": []
    },
    {
      "metadata": {
        "trusted": true,
        "id": "zKHnNqsLdo6c"
      },
      "cell_type": "code",
      "source": [
        "#Extracting year of match from date feature\n",
        "\n",
        "batsman['Year']=0\n",
        "years=r'([0-9]{4})'\n",
        "index_3=batsman.columns.get_loc('Innings Date')\n",
        "index_year=batsman.columns.get_loc('Year')\n",
        "\n",
        "for row in range(0,len(batsman)):\n",
        "    year=re.search(years,batsman.iat[row,index_3]).group()\n",
        "    batsman.iat[row,index_year]=int(year)"
      ],
      "execution_count": null,
      "outputs": []
    },
    {
      "metadata": {
        "trusted": true,
        "id": "AT7_XPVVdo6c"
      },
      "cell_type": "code",
      "source": [
        "#Extracting month in which match was played from date feature\n",
        "\n",
        "batsman['Month']=0\n",
        "batsman['Innings Date']=pd.to_datetime(batsman['Innings Date'])\n",
        "index_month=batsman.columns.get_loc('Month')\n",
        "\n",
        "for row in range(0,len(batsman)):\n",
        "    batsman.iat[row,index_month]=int(batsman.iat[row, index_3].month)"
      ],
      "execution_count": null,
      "outputs": []
    },
    {
      "metadata": {
        "trusted": true,
        "id": "qHco0wTndo6c"
      },
      "cell_type": "code",
      "source": [
        "#Extracting day name from date feature\n",
        "\n",
        "batsman['Day']=''\n",
        "index_day=batsman.columns.get_loc('Day')\n",
        "\n",
        "import calendar\n",
        "for row in range(0,len(batsman)):\n",
        "    batsman.iat[row,index_day]=calendar.day_name[batsman.iat[row, index_3].weekday()]"
      ],
      "execution_count": null,
      "outputs": []
    },
    {
      "metadata": {
        "trusted": true,
        "id": "bwKpB2msdo6d"
      },
      "cell_type": "code",
      "source": [
        "#number of 50s and 100s scored\n",
        "\n",
        "batsman['50s']=0\n",
        "batsman['100s']=0\n",
        "\n",
        "fifty=batsman.columns.get_loc('50s')\n",
        "hundred=batsman.columns.get_loc('100s')\n",
        "\n",
        "index_fifty=batsman.columns.get_loc(\"50's\")\n",
        "index_hundred=batsman.columns.get_loc(\"100's\")\n",
        "\n",
        "for row in range(0,len(batsman)):\n",
        "    fifties= batsman.iat[row,index_fifty]\n",
        "    hundreds=batsman.iat[row,index_hundred]\n",
        "    if fifties!='-':\n",
        "        batsman.iat[row,fifty]=int(fifties)\n",
        "    if hundreds!='-':\n",
        "        batsman.iat[row,hundred]=int(hundreds)"
      ],
      "execution_count": null,
      "outputs": []
    },
    {
      "metadata": {
        "trusted": true,
        "id": "kUUFqB0udo6d"
      },
      "cell_type": "code",
      "source": [
        "#Numbers of zeroes scored in innings is necessary for further feature engineering.\n",
        "#Formula used for creating this feature:\n",
        "# Number of zeroes = 0 + Number of innings played (if player has scored 0 runs in total)\n",
        "\n",
        "batsman['0s']=0\n",
        "index_0=batsman.columns.get_loc('0s')\n",
        "index_runs=batsman.columns.get_loc('Innings_Runs_Score')\n",
        "index_inn=batsman.columns.get_loc('Innings_Number')\n",
        "zeros=0\n",
        "\n",
        "for row in range(len(batsman)):\n",
        "    if batsman.iat[row,index_runs]==0:\n",
        "        zeros=0+batsman.iat[row,index_inn]\n",
        "    batsman.iat[row,index_0]=zeros"
      ],
      "execution_count": null,
      "outputs": []
    },
    {
      "metadata": {
        "trusted": true,
        "id": "fo7MSm6kdo6d"
      },
      "cell_type": "code",
      "source": [
        "drop=['Innings Runs Scored', 'Innings Balls Faced','Innings Boundary Fours',\n",
        "       'Innings Boundary Sixes', 'Innings Batting Strike Rate',\n",
        "       'Innings Number','Innings Date', \"50's\", \"100's\"]\n",
        "batsman=batsman.drop(drop, axis=1)"
      ],
      "execution_count": null,
      "outputs": []
    },
    {
      "metadata": {
        "trusted": true,
        "id": "peqZgNC8do6d"
      },
      "cell_type": "code",
      "source": [
        "#creating batting average\n",
        "\n",
        "batsman['Batting_Average']=0.0\n",
        "index_ba=batsman.columns.get_loc(\"Batting_Average\")\n",
        "index_in=batsman.columns.get_loc(\"Innings_Number\")\n",
        "index_inruns=batsman.columns.get_loc(\"Innings_Runs_Score\")\n",
        "\n",
        "for row in range(len(batsman)):\n",
        "    inumber=batsman.iat[row,index_in]\n",
        "    inruns=batsman.iat[row,index_inruns]\n",
        "    batsman.iat[row,index_ba]=inruns/inumber"
      ],
      "execution_count": null,
      "outputs": []
    },
    {
      "metadata": {
        "id": "vpnXtC1odo6d"
      },
      "cell_type": "markdown",
      "source": [
        "# Data Augmentation\n",
        "Here, we are using other dataset to extract batting style feature in order to enhance our current dataset"
      ]
    },
    {
      "metadata": {
        "trusted": true,
        "id": "BUkeKBXWdo6d"
      },
      "cell_type": "code",
      "source": [
        "dataset=pd.read_csv('/kaggle/input/project/personal_male.csv')"
      ],
      "execution_count": null,
      "outputs": []
    },
    {
      "metadata": {
        "trusted": true,
        "id": "U7MBz4dtdo6d"
      },
      "cell_type": "code",
      "source": [
        "#function to extract Initials of players' name.\n",
        "#We are doing this in order to match it with the names column of our original dataset.\n",
        "\n",
        "def name(s):\n",
        "\n",
        "    # split the string into a list\n",
        "    l = s.split()\n",
        "    new = \"\"\n",
        "\n",
        "    # traverse in the list\n",
        "    for i in range(len(l)-1):\n",
        "        s = l[i]\n",
        "\n",
        "        # adds the capital first character\n",
        "        new += (s[0].upper())\n",
        "\n",
        "    # l[-1] gives last item of list l. We\n",
        "    # use title to print first character in\n",
        "    # capital.\n",
        "    new=new+\" \"+l[-1].title()\n",
        "\n",
        "    return new\n",
        "\n",
        "# Driver code\n",
        "index_name=dataset.columns.get_loc(\"fullName\")\n",
        "dataset['New_name']=\"\"\n",
        "index_new=dataset.columns.get_loc(\"New_name\")\n",
        "\n",
        "for row in range(len(dataset)):\n",
        "    cname=name(dataset.iat[row,index_name])\n",
        "    dataset.iat[row,index_new]=cname"
      ],
      "execution_count": null,
      "outputs": []
    },
    {
      "metadata": {
        "trusted": true,
        "id": "MGt4uBv1do6e"
      },
      "cell_type": "code",
      "source": [
        "batsman['Name']=batsman['Innings Player']\n",
        "dataset['Name']=dataset['New_name']"
      ],
      "execution_count": null,
      "outputs": []
    },
    {
      "metadata": {
        "trusted": true,
        "id": "MXK4Kx_Udo6e"
      },
      "cell_type": "code",
      "source": [
        "drop=['name', 'fullName', 'dob', 'country', 'birthPlace', 'nationalTeam',\n",
        "       'teams','bowlingStyle', 'New_name']\n",
        "dataset.drop(drop, axis=1,inplace=True)"
      ],
      "execution_count": null,
      "outputs": []
    },
    {
      "metadata": {
        "trusted": true,
        "id": "1gy_tfcUdo6e"
      },
      "cell_type": "code",
      "source": [
        "#merging with original dataset\n",
        "batsman=pd.merge(batsman,dataset,on='Name', how='inner')"
      ],
      "execution_count": null,
      "outputs": []
    },
    {
      "metadata": {
        "id": "wWl-XNMPdo6e"
      },
      "cell_type": "markdown",
      "source": [
        "# Attribute Derivation\n",
        "Here, we are deriving new attributes to further enhance the dataset"
      ]
    },
    {
      "metadata": {
        "id": "CDsr0Lt2do6e"
      },
      "cell_type": "markdown",
      "source": [
        "## Consistency\n",
        "This attribute describes how experienced the player is and how consistent he has been throughout\n",
        "his career. All the traditional attributes used in this formula are calculated over the entire career of\n",
        "the player.\n",
        "\n",
        "**Consistency = 0.4262 x average + 0.2566 x no. of innings + 0.1510 x SR + 0.0787 x Centuries + 0.0556 x Fifties – 0.0328 x Zeros**\n"
      ]
    },
    {
      "metadata": {
        "trusted": true,
        "id": "PV3KWn3-do6e",
        "outputId": "6473bc8c-1496-41e4-b1f2-fb0145000528"
      },
      "cell_type": "code",
      "source": [
        "def attribute(df,col_name):\n",
        "    df['Average']=0.0\n",
        "    index_ba=df.columns.get_loc(\"Average\")\n",
        "    index_in=df.columns.get_loc(\"Innings_Number\")\n",
        "    index_inruns=df.columns.get_loc(\"Innings_Runs_Score\")\n",
        "    for row in range(len(df)):\n",
        "        inumber=df.iat[row,index_in]\n",
        "        inruns=df.iat[row,index_inruns]\n",
        "        df.iat[row,index_ba]=inruns/inumber\n",
        "\n",
        "    df['Strike_rate']=0.0\n",
        "    index_ba=df.columns.get_loc(\"Strike_rate\")\n",
        "    index_in=df.columns.get_loc(\"Innings_Balls_Faced\")\n",
        "    index_inruns=df.columns.get_loc(\"Innings_Runs_Score\")\n",
        "    for row in range(len(df)):\n",
        "        inumber=df.iat[row,index_in]\n",
        "        inruns=df.iat[row,index_inruns]\n",
        "        df.iat[row,index_ba]=(inruns/inumber)*100\n",
        "\n",
        "    index_new=df.columns.get_loc(col_name)\n",
        "    index_sr=df.columns.get_loc(\"Strike_rate\")\n",
        "    index_av=df.columns.get_loc(\"Average\")\n",
        "    index_in=df.columns.get_loc(\"Innings_Number\")\n",
        "    index_100=df.columns.get_loc(\"100s\")\n",
        "    index_50=df.columns.get_loc('50s')\n",
        "    index_0=df.columns.get_loc('0s')\n",
        "\n",
        "    for row in range(len(df)):\n",
        "        f=0.4262*(df.iat[row,index_av])\n",
        "        f=f+0.2566*(df.iat[row,index_in])\n",
        "        f+=0.1510*(df.iat[row,index_sr])\n",
        "        f+=0.0787*(df.iat[row,index_100])\n",
        "        f+=0.0556*(df.iat[row,index_50])\n",
        "        f=f-(0.0328*(df.iat[row,index_0]))\n",
        "        df.iat[row,index_new]=f\n",
        "\n",
        "    return(df)\n",
        "\n",
        "\n",
        "\n",
        "g=batsman.groupby('Innings Player')\n",
        "df=g.sum()\n",
        "df['consistency']=0.0\n",
        "df=attribute(df,'consistency')\n",
        "df['Average_Career']=df['Average']\n",
        "df['Strike_rate_Career']=df['Strike_rate']\n",
        "drop=['Innings_Runs_Score','Innings_Boundary_Fours',\n",
        "       'Innings_Boundary_Sixes', 'Innings_Batting_Strike_Rate',\n",
        "       'Innings_Number', 'Innings_Balls_Faced', 'Year', 'Month', '50s', '100s',\n",
        "       '0s', 'Batting_Average','Average','Strike_rate']\n",
        "df.drop(drop,axis=1,inplace=True)\n",
        "batsman=pd.merge(batsman,df,on='Innings Player', how='inner')"
      ],
      "execution_count": null,
      "outputs": [
        {
          "output_type": "stream",
          "text": "/opt/conda/lib/python3.7/site-packages/ipykernel_launcher.py:18: RuntimeWarning: invalid value encountered in long_scalars\n",
          "name": "stderr"
        }
      ]
    },
    {
      "metadata": {
        "id": "ud7Tygzrdo6f"
      },
      "cell_type": "markdown",
      "source": [
        "## Form\n",
        "Form of a player describes his performance over last one year. All the traditional attributes used in\n",
        "this formula are calculated over the matches played by the player in last 12 months from the day of\n",
        "the match.\n",
        "\n",
        "**Form = 0.4262 x average + 0.2566 x no. of innings + 0.1510 x SR + 0.0787 x Centuries +\n",
        "0.0556 x Fifties – 0.0328 x Zeros**"
      ]
    },
    {
      "metadata": {
        "trusted": true,
        "id": "hBRNHH9Ddo6f",
        "outputId": "f70e283d-dd70-452e-e937-0ee387467577"
      },
      "cell_type": "code",
      "source": [
        "def attribute(df,col_name):\n",
        "    df['Average']=0.0\n",
        "    index_ba=df.columns.get_loc(\"Average\")\n",
        "    index_in=df.columns.get_loc(\"Innings_Number\")\n",
        "    index_inruns=df.columns.get_loc(\"Innings_Runs_Score\")\n",
        "    for row in range(len(df)):\n",
        "        inumber=df.iat[row,index_in]\n",
        "        inruns=df.iat[row,index_inruns]\n",
        "        df.iat[row,index_ba]=inruns/inumber\n",
        "\n",
        "    df['Strike_rate']=0.0\n",
        "    index_ba=df.columns.get_loc(\"Strike_rate\")\n",
        "    index_in=df.columns.get_loc(\"Innings_Balls_Faced\")\n",
        "    index_inruns=df.columns.get_loc(\"Innings_Runs_Score\")\n",
        "    for row in range(len(df)):\n",
        "        inumber=df.iat[row,index_in]\n",
        "        inruns=df.iat[row,index_inruns]\n",
        "        df.iat[row,index_ba]=(inruns/inumber)*100\n",
        "\n",
        "    index_new=df.columns.get_loc(col_name)\n",
        "    index_sr=df.columns.get_loc(\"Strike_rate\")\n",
        "    index_av=df.columns.get_loc(\"Average\")\n",
        "    index_in=df.columns.get_loc(\"Innings_Number\")\n",
        "    index_100=df.columns.get_loc(\"100s\")\n",
        "    index_50=df.columns.get_loc('50s')\n",
        "    index_0=df.columns.get_loc('0s')\n",
        "\n",
        "    for row in range(len(df)):\n",
        "        f=0.4262*(df.iat[row,index_av])\n",
        "        f=f+0.2566*(df.iat[row,index_in])\n",
        "        f+=0.1510*(df.iat[row,index_sr])\n",
        "        f+=0.0787*(df.iat[row,index_100])\n",
        "        f+=0.0556*(df.iat[row,index_50])\n",
        "        f=f-(0.0328*(df.iat[row,index_0]))\n",
        "        df.iat[row,index_new]=f\n",
        "\n",
        "    return(df)\n",
        "\n",
        "\n",
        "\n",
        "g=batsman.groupby(['Innings Player','Year'])\n",
        "df=g.sum()\n",
        "df['form']=0.0\n",
        "df=attribute(df,'form')\n",
        "df['Average_Yearly']=df['Average']\n",
        "df['Strike_rate_Yearly']=df['Strike_rate']\n",
        "drop=['Innings_Runs_Score','Innings_Boundary_Fours',\n",
        "       'Innings_Boundary_Sixes', 'Innings_Batting_Strike_Rate',\n",
        "       'Innings_Number', 'Innings_Balls_Faced', 'Month', '50s', '100s',\n",
        "       '0s', 'Batting_Average','consistency','Average_Career','Strike_rate_Career','Average','Strike_rate']\n",
        "df.drop(drop,axis=1,inplace=True)\n",
        "on=['Innings Player','Year']\n",
        "batsman=pd.merge(batsman,df,on=on, how='inner')"
      ],
      "execution_count": null,
      "outputs": [
        {
          "output_type": "stream",
          "text": "/opt/conda/lib/python3.7/site-packages/ipykernel_launcher.py:18: RuntimeWarning: invalid value encountered in long_scalars\n",
          "name": "stderr"
        }
      ]
    },
    {
      "metadata": {
        "id": "8GW6qmuudo6p"
      },
      "cell_type": "markdown",
      "source": [
        "## Opposition\n",
        "Opposition describes a player’s performance against a particular team. All the traditional attributes\n",
        "used in this formula are calculated over all the matches played by the player against the opposition\n",
        "team in his entire career till the day of the match.\n",
        "\n",
        "**Opposition = 0.4262 x average + 0.2566 x no. of innings + 0.1510 x SR + 0.0787 x Centuries +\n",
        "0.0556 x Fifties – 0.0328 x Zeros**"
      ]
    },
    {
      "metadata": {
        "trusted": true,
        "id": "UJw8drzedo6p",
        "outputId": "9361d07e-db36-44f2-c04b-ca2d39c4c139"
      },
      "cell_type": "code",
      "source": [
        "def attribute(df,col_name):\n",
        "    df['Average']=0.0\n",
        "    index_ba=df.columns.get_loc(\"Average\")\n",
        "    index_in=df.columns.get_loc(\"Innings_Number\")\n",
        "    index_inruns=df.columns.get_loc(\"Innings_Runs_Score\")\n",
        "    for row in range(len(df)):\n",
        "        inumber=df.iat[row,index_in]\n",
        "        inruns=df.iat[row,index_inruns]\n",
        "        df.iat[row,index_ba]=inruns/inumber\n",
        "\n",
        "    df['Strike_rate']=0.0\n",
        "    index_ba=df.columns.get_loc(\"Strike_rate\")\n",
        "    index_in=df.columns.get_loc(\"Innings_Balls_Faced\")\n",
        "    index_inruns=df.columns.get_loc(\"Innings_Runs_Score\")\n",
        "    for row in range(len(df)):\n",
        "        inumber=df.iat[row,index_in]\n",
        "        inruns=df.iat[row,index_inruns]\n",
        "        df.iat[row,index_ba]=(inruns/inumber)*100\n",
        "\n",
        "    index_new=df.columns.get_loc(col_name)\n",
        "    index_sr=df.columns.get_loc(\"Strike_rate\")\n",
        "    index_av=df.columns.get_loc(\"Average\")\n",
        "    index_in=df.columns.get_loc(\"Innings_Number\")\n",
        "    index_100=df.columns.get_loc(\"100s\")\n",
        "    index_50=df.columns.get_loc('50s')\n",
        "    index_0=df.columns.get_loc('0s')\n",
        "\n",
        "    for row in range(len(df)):\n",
        "        f=0.4262*(df.iat[row,index_av])\n",
        "        f=f+0.2566*(df.iat[row,index_in])\n",
        "        f+=0.1510*(df.iat[row,index_sr])\n",
        "        f+=0.0787*(df.iat[row,index_100])\n",
        "        f+=0.0556*(df.iat[row,index_50])\n",
        "        f=f-(0.0328*(df.iat[row,index_0]))\n",
        "        df.iat[row,index_new]=f\n",
        "\n",
        "    return(df)\n",
        "\n",
        "\n",
        "\n",
        "g=batsman.groupby(['Innings Player','Opposition'])\n",
        "df=g.sum()\n",
        "df['opposition']=0.0\n",
        "df=attribute(df,'opposition')\n",
        "df['Average_Opposition']=df['Average']\n",
        "df['Strike_rate_Opposition']=df['Strike_rate']\n",
        "drop=['Innings_Runs_Score','Innings_Boundary_Fours',\n",
        "       'Innings_Boundary_Sixes', 'Innings_Batting_Strike_Rate',\n",
        "       'Innings_Number', 'Innings_Balls_Faced', 'Year', 'Month', '50s', '100s',\n",
        "       '0s', 'Batting_Average','consistency', 'form','Average_Career','Strike_rate_Career','Average_Yearly',\n",
        "     'Strike_rate_Yearly','Average','Strike_rate']\n",
        "df.drop(drop,axis=1,inplace=True)\n",
        "on=['Innings Player','Opposition']\n",
        "batsman=pd.merge(batsman,df,on=on, how='inner')"
      ],
      "execution_count": null,
      "outputs": [
        {
          "output_type": "stream",
          "text": "/opt/conda/lib/python3.7/site-packages/ipykernel_launcher.py:18: RuntimeWarning: invalid value encountered in long_scalars\n",
          "name": "stderr"
        }
      ]
    },
    {
      "metadata": {
        "id": "b3GsJvmYdo6p"
      },
      "cell_type": "markdown",
      "source": [
        "## Venue\n",
        "Venue describes a player’s performance at a particular venue. All the traditional attributes used in\n",
        "this formula are calculated over all the matches played by the player at the venue in his entire\n",
        "career till the day of the match.\n",
        "\n",
        "**Venue = 0.4262 x average + 0.2566 x no. of innings + 0.1510 x SR + 0.0787 x Centuries +\n",
        "0.0556 x Fifties + 0.0328 x HS**"
      ]
    },
    {
      "metadata": {
        "trusted": true,
        "id": "GxcUYyWydo6p",
        "outputId": "c1f9bcdd-df43-4aab-83a1-287fbabb7c9a"
      },
      "cell_type": "code",
      "source": [
        "def attribute(df,col_name):\n",
        "    df['Average']=0.0\n",
        "    index_ba=df.columns.get_loc(\"Average\")\n",
        "    index_in=df.columns.get_loc(\"Innings_Number\")\n",
        "    index_inruns=df.columns.get_loc(\"Innings_Runs_Score\")\n",
        "    for row in range(len(df)):\n",
        "        inumber=df.iat[row,index_in]\n",
        "        inruns=df.iat[row,index_inruns]\n",
        "        df.iat[row,index_ba]=inruns/inumber\n",
        "\n",
        "    df['Strike_rate']=0.0\n",
        "    index_ba=df.columns.get_loc(\"Strike_rate\")\n",
        "    index_in=df.columns.get_loc(\"Innings_Balls_Faced\")\n",
        "    index_inruns=df.columns.get_loc(\"Innings_Runs_Score\")\n",
        "    for row in range(len(df)):\n",
        "        inumber=df.iat[row,index_in]\n",
        "        inruns=df.iat[row,index_inruns]\n",
        "        df.iat[row,index_ba]=(inruns/inumber)*100\n",
        "\n",
        "    index_new=df.columns.get_loc(col_name)\n",
        "    index_sr=df.columns.get_loc(\"Strike_rate\")\n",
        "    index_av=df.columns.get_loc(\"Average\")\n",
        "    index_in=df.columns.get_loc(\"Innings_Number\")\n",
        "    index_100=df.columns.get_loc(\"100s\")\n",
        "    index_50=df.columns.get_loc('50s')\n",
        "    index_HS=df.columns.get_loc('Innings_Runs_Score')\n",
        "\n",
        "    for row in range(len(df)):\n",
        "        f=0.4262*(df.iat[row,index_av])\n",
        "        f=f+0.2566*(df.iat[row,index_in])\n",
        "        f+=0.1510*(df.iat[row,index_sr])\n",
        "        f+=0.0787*(df.iat[row,index_100])\n",
        "        f+=0.0556*(df.iat[row,index_50])\n",
        "        f=f+(0.0328*(df.iat[row,index_HS]))\n",
        "        df.iat[row,index_new]=f\n",
        "\n",
        "    return(df)\n",
        "\n",
        "\n",
        "\n",
        "g=batsman.groupby(['Innings Player','Ground'])\n",
        "df=g.max()\n",
        "df['venue']=0.0\n",
        "df=attribute(df,'venue')\n",
        "df['Average_venue']=df['Average']\n",
        "df['Strike_rate_venue']=df['Strike_rate']\n",
        "drop=['Innings_Runs_Score','Innings Runs Scored Buckets','Innings_Boundary_Fours',\n",
        "       'Innings_Boundary_Sixes', 'Innings_Batting_Strike_Rate',\n",
        "       'Innings_Number', 'Innings_Balls_Faced', 'Year', 'Month', '50s', '100s',\n",
        "       '0s', 'Batting_Average','consistency', 'form','Average_Career','Strike_rate_Career','Average_Yearly',\n",
        "     'Strike_rate_Yearly','Average','Strike_rate','opposition','Average_Opposition','Strike_rate_Opposition']\n",
        "df.drop(drop,axis=1,inplace=True)\n",
        "on=['Innings Player','Ground']\n",
        "batsman=pd.merge(batsman,df,on=on, how='inner')"
      ],
      "execution_count": null,
      "outputs": [
        {
          "output_type": "stream",
          "text": "/opt/conda/lib/python3.7/site-packages/ipykernel_launcher.py:18: RuntimeWarning: invalid value encountered in long_scalars\n",
          "name": "stderr"
        }
      ]
    },
    {
      "metadata": {
        "id": "FfpkhCZHdo6p"
      },
      "cell_type": "markdown",
      "source": [
        "## Obtainings columns for total historical data"
      ]
    },
    {
      "metadata": {
        "trusted": true,
        "id": "yFC1-Ht3do6q"
      },
      "cell_type": "code",
      "source": [
        "g=batsman.groupby(['Innings Player'])\n",
        "df=g.sum()\n",
        "drop=['Innings_Runs_Score','Innings_Boundary_Fours',\n",
        "       'Innings_Boundary_Sixes', 'Innings_Batting_Strike_Rate',\n",
        "       'Year', 'Month', 'Batting_Average','consistency', 'form','Average_Career','Strike_rate_Career','Average_Yearly',\n",
        "     'Strike_rate_Yearly','opposition','Average_Opposition','venue','Strike_rate_Opposition','Average_venue','Strike_rate_venue']\n",
        "df.drop(drop,axis=1,inplace=True)\n",
        "on=['Innings Player']\n",
        "batsman=pd.merge(batsman,df,on=on, how='inner')"
      ],
      "execution_count": null,
      "outputs": []
    },
    {
      "metadata": {
        "trusted": true,
        "id": "CKq0bNijdo6q"
      },
      "cell_type": "code",
      "source": [
        "batsman['50s']=batsman['50s_y']\n",
        "batsman['100s']=batsman['100s_y']\n",
        "batsman['0s']=batsman['0s_y']\n",
        "batsman['Innings_Balls_Faced']=batsman['Innings_Balls_Faced_y']\n",
        "batsman['Innings_Number']=batsman['Innings_Number_y']\n",
        "\n",
        "drop=['Opposition_y','Innings_Boundary_Fours','Innings_Boundary_Sixes','Day_y','Country_y','50s_x',\n",
        "      '100s_x','0s_x','Innings_Balls_Faced_x','Innings_Number_x','50s_y',\n",
        "      '100s_y','0s_y','Innings_Balls_Faced_y','Innings_Number_y',\n",
        "      'battingStyle_y','Name_y']\n",
        "batsman.drop(drop,axis=1,inplace=True)"
      ],
      "execution_count": null,
      "outputs": []
    },
    {
      "metadata": {
        "id": "QKGMa31tdo6q"
      },
      "cell_type": "markdown",
      "source": [
        "# Rating The Attributes\n",
        "Here, we created bins/ratings for various attributes. We used these ratings instead of actual values of the measures, in the formulae of derived attributes. The measures are rated as follows:"
      ]
    },
    {
      "metadata": {
        "id": "kT9gmZPsdo6q"
      },
      "cell_type": "markdown",
      "source": [
        "### For Consistency:\n",
        "* 1 – 49: 1\n",
        "* 50 – 99: 2\n",
        "* 100 – 124: 3\n",
        "* 125 – 149: 4\n",
        "* Consistency>=150: 5"
      ]
    },
    {
      "metadata": {
        "trusted": true,
        "id": "WJ29Jh_fdo6q"
      },
      "cell_type": "code",
      "source": [
        "dummy=[batsman]\n",
        "\n",
        "for dataset in dummy:\n",
        "    dataset.loc[dataset['consistency']<=49, 'consistency']=1,\n",
        "    dataset.loc[(dataset['consistency']>49) & (dataset['consistency']<=99), 'consistency']=2,\n",
        "    dataset.loc[(dataset['consistency']>99) & (dataset['consistency']<=124), 'consistency']=3,\n",
        "    dataset.loc[(dataset['consistency']>124) & (dataset['consistency']<=149), 'consistency']=4,\n",
        "    dataset.loc[dataset['consistency']>149, 'consistency']=5"
      ],
      "execution_count": null,
      "outputs": []
    },
    {
      "metadata": {
        "id": "8WfGXyO0do6q"
      },
      "cell_type": "markdown",
      "source": [
        "### For Form:\n",
        "* 1 – 4: 1\n",
        "* 5 – 9: 2\n",
        "* 10 – 11: 3\n",
        "* 12 – 14: 4\n",
        "* Form>=15: 5\n"
      ]
    },
    {
      "metadata": {
        "trusted": true,
        "id": "9CK61zysdo6q"
      },
      "cell_type": "code",
      "source": [
        "dummy=[batsman]\n",
        "for dataset in dummy:\n",
        "    dataset.loc[dataset['form']<=4, 'form']=1,\n",
        "    dataset.loc[(dataset['form']>4) & (dataset['form']<=9), 'form']=2,\n",
        "    dataset.loc[(dataset['form']>9) & (dataset['form']<=11), 'form']=3,\n",
        "    dataset.loc[(dataset['form']>11) & (dataset['form']<=14), 'form']=4,\n",
        "    dataset.loc[(dataset['form']>14), 'form']=5"
      ],
      "execution_count": null,
      "outputs": []
    },
    {
      "metadata": {
        "id": "ThT036Wzdo6q"
      },
      "cell_type": "markdown",
      "source": [
        "### For Opposition:\n",
        "* 1 – 2: 1\n",
        "* 3 – 4: 2\n",
        "* 5 – 6: 3\n",
        "* 7 – 9: 4\n",
        "* Opposition>=10: 5\n"
      ]
    },
    {
      "metadata": {
        "trusted": true,
        "id": "xabZmqLKdo6q"
      },
      "cell_type": "code",
      "source": [
        "dummy=[batsman]\n",
        "for dataset in dummy:\n",
        "    dataset.loc[dataset['opposition']<=2, 'opposition']=1,\n",
        "    dataset.loc[(dataset['opposition']>2) & (dataset['opposition']<=4), 'opposition']=2,\n",
        "    dataset.loc[(dataset['opposition']>4) & (dataset['opposition']<=6), 'opposition']=3,\n",
        "    dataset.loc[(dataset['opposition']>6) & (dataset['opposition']<=9), 'opposition']=4,\n",
        "    dataset.loc[dataset['opposition']>9, 'opposition']=5\n",
        ""
      ],
      "execution_count": null,
      "outputs": []
    },
    {
      "metadata": {
        "id": "b_jUgDPqdo6q"
      },
      "cell_type": "markdown",
      "source": [
        "### For Venue:\n",
        "* 1: 1\n",
        "* 2: 2\n",
        "* 3: 3\n",
        "* 4: 4\n",
        "* Venue>=5: 5\n"
      ]
    },
    {
      "metadata": {
        "trusted": true,
        "id": "sgk3Jntcdo6q"
      },
      "cell_type": "code",
      "source": [
        "dummy=[batsman]\n",
        "for dataset in dummy:\n",
        "    dataset.loc[dataset['venue']<=1, 'venue']=1,\n",
        "    dataset.loc[(dataset['venue']>1) & (dataset['venue']<=2), 'venue']=2,\n",
        "    dataset.loc[(dataset['venue']>2) & (dataset['venue']<=3), 'venue']=3,\n",
        "    dataset.loc[(dataset['venue']>3) & (dataset['venue']<=4), 'venue']=4,\n",
        "    dataset.loc[(dataset['venue'])>=5,'venue']=5"
      ],
      "execution_count": null,
      "outputs": []
    },
    {
      "metadata": {
        "id": "U1GIq9lcdo6r"
      },
      "cell_type": "markdown",
      "source": [
        "### Batting Average (for all derived attributes):\n",
        "* 0.0 - 9.99: 1\n",
        "* 10.00 - 19.99: 2\n",
        "* 20.00 - 29.99: 3\n",
        "* 30.00 - 39.99: 4\n",
        "* Batting Average>=40: 5"
      ]
    },
    {
      "metadata": {
        "trusted": true,
        "id": "bpGNLb6Ddo6r"
      },
      "cell_type": "code",
      "source": [
        "def average(df,col_name):\n",
        "    dummy=[df]\n",
        "    for dataset in dummy:\n",
        "        dataset.loc[dataset[col_name]<=9.99, col_name]=1,\n",
        "        dataset.loc[(dataset[col_name]>=10.00) & (dataset[col_name]<=19.99), col_name]=2,\n",
        "        dataset.loc[(dataset[col_name]>=20.00) & (dataset[col_name]<=29.99), col_name]=3,\n",
        "        dataset.loc[(dataset[col_name]>=30.00) & (dataset[col_name]<=39.99), col_name]=4,\n",
        "        dataset.loc[(dataset[col_name])>=40,col_name]=5\n",
        "\n",
        "\n",
        "average(batsman,'Batting_Average')\n",
        "average(batsman,'Average_Career')\n",
        "average(batsman,'Average_Yearly')\n",
        "average(batsman,'Average_Opposition')\n",
        "average(batsman,'Average_venue')"
      ],
      "execution_count": null,
      "outputs": []
    },
    {
      "metadata": {
        "id": "ruYs3_7ndo6r"
      },
      "cell_type": "markdown",
      "source": [
        "### Batting Strike Rate (for all derived attributes):\n",
        "* 0.0 - 49.99: 1\n",
        "* 50.00 - 59.99: 2\n",
        "* 60.00 - 79.99: 3\n",
        "* 80.00 - 100.00: 4\n",
        "* Strike Rate>=100.00: 5\n"
      ]
    },
    {
      "metadata": {
        "trusted": true,
        "id": "zKql7c1Sdo6r"
      },
      "cell_type": "code",
      "source": [
        "def SR(df,col_name):\n",
        "    dummy=[df]\n",
        "    for dataset in dummy:\n",
        "        dataset.loc[dataset[col_name]<=49.99, col_name]=1,\n",
        "        dataset.loc[(dataset[col_name]>=50.00) & (dataset[col_name]<=59.99), col_name]=2,\n",
        "        dataset.loc[(dataset[col_name]>=60.00) & (dataset[col_name]<=79.99), col_name]=3,\n",
        "        dataset.loc[(dataset[col_name]>=80.00) & (dataset[col_name]<=100), col_name]=4,\n",
        "        dataset.loc[(dataset[col_name])>100,col_name]=5\n",
        "\n",
        "\n",
        "SR(batsman,'Innings_Batting_Strike_Rate')\n",
        "SR(batsman,'Strike_rate_Career')\n",
        "SR(batsman,'Strike_rate_Yearly')\n",
        "SR(batsman,'Strike_rate_Opposition')\n",
        "SR(batsman,'Strike_rate_venue')"
      ],
      "execution_count": null,
      "outputs": []
    },
    {
      "metadata": {
        "id": "elL5v583do6r"
      },
      "cell_type": "markdown",
      "source": [
        "### Target variable binning\n",
        "Runs are predicted in five classes:\n",
        "* 1 – 24: 1\n",
        "* 25 – 49: 2\n",
        "* 50 – 74: 3\n",
        "* 75 – 99: 4\n",
        "* Runs>=100: 5"
      ]
    },
    {
      "metadata": {
        "trusted": true,
        "id": "WLT_1nGvdo6r"
      },
      "cell_type": "code",
      "source": [
        "dummy=[batsman]\n",
        "col='Innings_Runs_Score'\n",
        "for dataset in dummy:\n",
        "    dataset.loc[dataset[col]<=24, col]=1,\n",
        "    dataset.loc[(dataset[col]>24) & (dataset[col]<=49), col]=2,\n",
        "    dataset.loc[(dataset[col]>=50) & (dataset[col]<=74), col]=3,\n",
        "    dataset.loc[(dataset[col]>74) & (dataset[col]<=99), col]=4,\n",
        "    dataset.loc[(dataset[col])>=100,col]=5"
      ],
      "execution_count": null,
      "outputs": []
    },
    {
      "metadata": {
        "id": "K4ZF-wwFdo6r"
      },
      "cell_type": "markdown",
      "source": [
        "## Saving final csv file"
      ]
    },
    {
      "metadata": {
        "trusted": true,
        "id": "HpA1ChSFdo6r"
      },
      "cell_type": "code",
      "source": [
        "batsman.to_csv('cricket_batsman_information.csv', header=True, index=False)"
      ],
      "execution_count": null,
      "outputs": []
    }
  ],
  "metadata": {
    "kernelspec": {
      "name": "python3",
      "display_name": "Python 3",
      "language": "python"
    },
    "language_info": {
      "name": "python",
      "version": "3.7.6",
      "mimetype": "text/x-python",
      "codemirror_mode": {
        "name": "ipython",
        "version": 3
      },
      "pygments_lexer": "ipython3",
      "nbconvert_exporter": "python",
      "file_extension": ".py"
    },
    "colab": {
      "provenance": [],
      "include_colab_link": true
    }
  },
  "nbformat": 4,
  "nbformat_minor": 0
}